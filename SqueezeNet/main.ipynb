{
 "cells": [
  {
   "cell_type": "code",
   "execution_count": null,
   "metadata": {},
   "outputs": [],
   "source": [
    "import torch\n",
    "import torchvision\n",
    "import torchvision.transforms as transforms\n",
    "import torch.nn as nn\n",
    "from IPython import display\n",
    "import matplotlib.pyplot as plt\n",
    "\n",
    "torch.manual_seed(111)\n",
    "torch.cuda.manual_seed(111)\n",
    "device = torch.device(\"cuda\" if torch.cuda.is_available() else \"cpu\")"
   ]
  },
  {
   "cell_type": "code",
   "execution_count": null,
   "metadata": {},
   "outputs": [],
   "source": [
    "transform = transforms.Compose([transforms.RandomHorizontalFlip(), transforms.ToTensor(), transforms.Normalize((0.5, 0.5, 0.5), (0.5, 0.5, 0.5))])\n",
    "\n",
    "trainset = torchvision.datasets.CIFAR10(root='./data', train=True, download=True, transform=transform)\n",
    "trainloader = torch.utils.data.DataLoader(trainset, batch_size=128, shuffle=True)\n",
    "\n",
    "testset = torchvision.datasets.CIFAR10(root='./data', train=False, download=True, transform=transform)\n",
    "testloader = torch.utils.data.DataLoader(testset, batch_size=128, shuffle=False)"
   ]
  },
  {
   "cell_type": "code",
   "execution_count": null,
   "metadata": {},
   "outputs": [],
   "source": [
    "class fire(nn.Module):\n",
    "    def __init__(self, inplanes, squeeze_planes, expand_planes):\n",
    "        super(fire, self).__init__()\n",
    "        self.conv1 = nn.Conv2d(inplanes, squeeze_planes, kernel_size=1, stride=1)\n",
    "        self.bn1 = nn.BatchNorm2d(squeeze_planes)\n",
    "        self.relu1 = nn.ReLU(inplace=True)\n",
    "        self.conv2 = nn.Conv2d(squeeze_planes, expand_planes, kernel_size=1, stride=1)\n",
    "        self.bn2 = nn.BatchNorm2d(expand_planes)\n",
    "        self.conv3 = nn.Conv2d(squeeze_planes, expand_planes, kernel_size=3, stride=1, padding=1)\n",
    "        self.bn3 = nn.BatchNorm2d(expand_planes)\n",
    "        self.relu2 = nn.ReLU(inplace=True)\n",
    "\n",
    "    def forward(self, x):\n",
    "        x = self.conv1(x)\n",
    "        x = self.bn1(x)\n",
    "        x = self.relu1(x)\n",
    "\n",
    "        out1 = self.conv2(x)\n",
    "        out1 = self.bn2(out1)\n",
    "        out2 = self.conv3(x)\n",
    "        out2 = self.bn3(out2)\n",
    "        # print(out1.shape, out2.shape)\n",
    "\n",
    "        out = torch.cat([out1, out2], 1)\n",
    "        out = self.relu2(out)\n",
    "        return out\n",
    "    \n",
    "fire_module = fire(96, 16, 64)\n",
    "fire_module(torch.randn(1, 96, 32, 32)).shape"
   ]
  },
  {
   "cell_type": "code",
   "execution_count": null,
   "metadata": {},
   "outputs": [],
   "source": [
    "class SqueezeNet(nn.Module):\n",
    "    def __init__(self):\n",
    "        super(SqueezeNet, self).__init__()\n",
    "        self.conv1 = nn.Conv2d(3, 96, kernel_size=3, stride=1, padding=1) # 32\n",
    "        self.bn1 = nn.BatchNorm2d(96)\n",
    "        self.relu = nn.ReLU(inplace=True)\n",
    "        self.maxpool1 = nn.MaxPool2d(kernel_size=2, stride=2) # 16\n",
    "        self.fire2 = fire(96, 16, 64)\n",
    "        self.fire3 = fire(128, 16, 64)\n",
    "        self.fire4 = fire(128, 32, 128)\n",
    "        self.maxpool2 = nn.MaxPool2d(kernel_size=2, stride=2) # 8\n",
    "        self.fire5 = fire(256, 32, 128)\n",
    "        self.fire6 = fire(256, 48, 192)\n",
    "        self.fire7 = fire(384, 48, 192)\n",
    "        self.fire8 = fire(384, 64, 256)\n",
    "        self.maxpool3 = nn.MaxPool2d(kernel_size=2, stride=2) # 4\n",
    "        self.fire9 = fire(512, 64, 256)\n",
    "        self.conv2 = nn.Conv2d(512, 10, kernel_size=1, stride=1)\n",
    "        self.avg_pool = nn.AvgPool2d(kernel_size=4, stride=4)\n",
    "        self.softmax = nn.LogSoftmax(dim=1)\n",
    "\n",
    "    def forward(self, x):\n",
    "        x = self.conv1(x)\n",
    "        x = self.bn1(x)\n",
    "        x = self.relu(x)\n",
    "        x = self.maxpool1(x)\n",
    "        x = self.fire2(x)\n",
    "        x = self.fire3(x)\n",
    "        x = self.fire4(x)\n",
    "        x = self.maxpool2(x)\n",
    "        x = self.fire5(x)\n",
    "        x = self.fire6(x)\n",
    "        x = self.fire7(x)\n",
    "        x = self.fire8(x)\n",
    "        x = self.maxpool3(x)\n",
    "        x = self.fire9(x)\n",
    "        x = self.conv2(x)\n",
    "        x = self.avg_pool(x)\n",
    "        x = self.softmax(x)\n",
    "        return x\n",
    "\n",
    "model = SqueezeNet().to(device)\n",
    "x, y = next(iter(trainloader))[0].to(device), next(iter(trainloader))[1].to(device)\n",
    "model(x).shape"
   ]
  },
  {
   "cell_type": "code",
   "execution_count": null,
   "metadata": {},
   "outputs": [],
   "source": [
    "total_params = sum(p.numel() for p in model.parameters())\n",
    "print(f'Total number of parameters: {total_params}')"
   ]
  },
  {
   "cell_type": "code",
   "execution_count": null,
   "metadata": {},
   "outputs": [],
   "source": [
    "optimizer = torch.optim.Adam(model.parameters(), lr=0.001)\n",
    "criterion = nn.NLLLoss()\n",
    "train_losses = []\n",
    "val_losses = []"
   ]
  },
  {
   "cell_type": "code",
   "execution_count": null,
   "metadata": {},
   "outputs": [],
   "source": [
    "# start = time.time()\n",
    "for epoch in range(30):\n",
    "    # plt.figure(1)\n",
    "\n",
    "    train_loss = 0\n",
    "    model.train(True)\n",
    "    for indx, inp in enumerate(trainloader):\n",
    "        optimizer.zero_grad()\n",
    "        x = inp[0].to(device)\n",
    "        y = inp[1].to(device)\n",
    "\n",
    "        out = model(x).view(-1, 10)\n",
    "        loss = criterion(out, y)\n",
    "        loss.backward()\n",
    "        optimizer.step()\n",
    "        train_loss += loss.item()/x.size(0)\n",
    "    train_loss = train_loss/(indx+1)\n",
    "\n",
    "    val_loss = 0\n",
    "    model.eval()\n",
    "    with torch.no_grad():\n",
    "        for indx, inp in enumerate(testloader):\n",
    "            x = inp[0].to(device)\n",
    "            y = inp[1].to(device)\n",
    "            \n",
    "            out = model(x).view(-1, 10)\n",
    "            accuracy = (out.data.max(1)[1] == y).cpu().sum() * 100 / y.size(0)\n",
    "            loss = criterion(out, y)\n",
    "            val_loss += loss.item()/x.size(0)\n",
    "        val_loss = val_loss / (indx+1)\n",
    "\n",
    "    train_losses.append(train_loss)\n",
    "    val_losses.append(val_loss)\n",
    "\n",
    "    display.clear_output(wait=True)\n",
    "    print(\"Epoch: \", epoch, \"\\tTrain Loss: \", train_loss, '\\tVal Loss: ', val_loss)\n",
    "    plt.plot(train_losses, label='Training Loss')\n",
    "    plt.plot(val_losses, label='Validation Loss')\n",
    "    plt.legend()\n",
    "    plt.show()\n",
    "\n",
    "# end = time.time()\n",
    "# print('Time taken', (end-start)/60)"
   ]
  },
  {
   "cell_type": "code",
   "execution_count": null,
   "metadata": {},
   "outputs": [],
   "source": [
    "y"
   ]
  },
  {
   "cell_type": "code",
   "execution_count": null,
   "metadata": {},
   "outputs": [],
   "source": []
  }
 ],
 "metadata": {
  "kernelspec": {
   "display_name": "base",
   "language": "python",
   "name": "python3"
  },
  "language_info": {
   "codemirror_mode": {
    "name": "ipython",
    "version": 3
   },
   "file_extension": ".py",
   "mimetype": "text/x-python",
   "name": "python",
   "nbconvert_exporter": "python",
   "pygments_lexer": "ipython3",
   "version": "3.9.0"
  }
 },
 "nbformat": 4,
 "nbformat_minor": 2
}
